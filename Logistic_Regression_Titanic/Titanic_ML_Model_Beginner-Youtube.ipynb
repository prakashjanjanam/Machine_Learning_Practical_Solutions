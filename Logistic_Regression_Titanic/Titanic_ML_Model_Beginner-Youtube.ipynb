{
 "cells": [
  {
   "cell_type": "markdown",
   "metadata": {},
   "source": [
    "### 1. Titanic ML Model for Beginner\n",
    "\n",
    "This Kernel/Notebook is built for Beginners to understand the Basic concepts of Machine learning with a practical example. \n",
    "\n",
    "Machine learning is exciting!! We can teach Machines to learn from available Data Patterns and then the Machine in return will Predict future outcomes with the help of a Model built. An ML model typically goes through these important stages:\n",
    "\n",
    "1. **Data Gathering** - Procuring, aggregating various soures, etc..\n",
    "2. **Data Analysis** - Analyzing & Visualizing Patterns & Relationships (EDA)\n",
    "3. **Data Cleaning, Pre-Processing** - Refine data for an acceptable format, shape\n",
    "4. **Feature Engineering** - Derive new Features from Existing ones if needed\n",
    "5. **Model Building and Training** - Build the Machine learning model with Training Data\n",
    "7. **Model Testing and fine tuning** - Validate the Model accuracy, Tune or Re-train\n",
    "8. **Model Deployment** - Deploy for real time prediction once we gain confidence\n",
    "\n",
    "We shall look at all these stages in this example. Hope you will find this useful to get started.\n",
    "\n",
    "##### Challenge Description\n",
    "This is the link for the [Titanic ML challenge](https://www.kaggle.com/c/titanic) that we are building a model for. In short, this is about learning from the Passenger list from the Titanic Disaster and see if we can build a model for predicitng the chances of survival of a person. We will have Training data (train.csv) to train the model off of. \n",
    "\n",
    "##### The Algorithm\n",
    "This is a very good example of Classification type of Machine Learning, where the model, provided with a set of related inputs, predicts the outcome into one of the few classes of possibilities (Survived or Didn't in this case). We will use a well known Machine Learning algorithm called **<u>Logistic Regression</u>**. There are sevaral other relavant models as well that can solve this problem, but out of scope for this exercise. <br><br>"
   ]
  },
  {
   "cell_type": "code",
   "execution_count": 52,
   "metadata": {},
   "outputs": [],
   "source": [
    "# Data Processing\n",
    "import pandas as pd\n",
    "import numpy as np\n",
    "\n",
    "# Visualization\n",
    "import seaborn as sns\n",
    "import matplotlib.pyplot as plt\n",
    "%matplotlib inline\n",
    "\n",
    "# ML Algorithms\n",
    "from sklearn.linear_model import LogisticRegression"
   ]
  },
  {
   "cell_type": "markdown",
   "metadata": {},
   "source": [
    "### 1 Data Gathering"
   ]
  },
  {
   "cell_type": "code",
   "execution_count": 369,
   "metadata": {},
   "outputs": [],
   "source": [
    "# These two data files can be downloaded from the Data section in Titanic Competition \n",
    "# link given in the Overview above. These are not available in the Repo\n",
    "train_df = pd.read_csv('./train.csv')\n",
    "test_df = pd.read_csv('./test.csv')"
   ]
  },
  {
   "cell_type": "code",
   "execution_count": 335,
   "metadata": {},
   "outputs": [
    {
     "name": "stdout",
     "output_type": "stream",
     "text": [
      "<class 'pandas.core.frame.DataFrame'>\n",
      "RangeIndex: 891 entries, 0 to 890\n",
      "Data columns (total 12 columns):\n",
      " #   Column       Non-Null Count  Dtype  \n",
      "---  ------       --------------  -----  \n",
      " 0   PassengerId  891 non-null    int64  \n",
      " 1   Survived     891 non-null    int64  \n",
      " 2   Pclass       891 non-null    int64  \n",
      " 3   Name         891 non-null    object \n",
      " 4   Sex          891 non-null    object \n",
      " 5   Age          714 non-null    float64\n",
      " 6   SibSp        891 non-null    int64  \n",
      " 7   Parch        891 non-null    int64  \n",
      " 8   Ticket       891 non-null    object \n",
      " 9   Fare         891 non-null    float64\n",
      " 10  Cabin        204 non-null    object \n",
      " 11  Embarked     889 non-null    object \n",
      "dtypes: float64(2), int64(5), object(5)\n",
      "memory usage: 83.7+ KB\n"
     ]
    }
   ],
   "source": [
    "# Let's understand what kind of data exists here just by sampling few records\n",
    "train_df.info()"
   ]
  },
  {
   "cell_type": "markdown",
   "metadata": {},
   "source": [
    "#### Few Insights from above Command\n",
    "1. There are a total of 891 rows and 11 Fields or columns in this data set\n",
    "2. We have numerical as well as Alpha numeric data in here (int64, float64, objects - Alpha numeric data)\n",
    "3. Some columns have count of values less than total rows. That usually indicates None or Null indictaing missing data.\n",
    "\n",
    "Let's move forward and proceed to Stage-2 Data Understand to make more sense from the data"
   ]
  },
  {
   "cell_type": "markdown",
   "metadata": {},
   "source": [
    "### 2. Data Analysis and Visualization\n",
    "In this section, we will perform what is called EDA (Exploratory Data Analysis) on the data, which aims at understanding the data deeply form various perspectives to determine their significance."
   ]
  },
  {
   "cell_type": "code",
   "execution_count": 207,
   "metadata": {},
   "outputs": [
    {
     "data": {
      "text/html": [
       "<div>\n",
       "<style scoped>\n",
       "    .dataframe tbody tr th:only-of-type {\n",
       "        vertical-align: middle;\n",
       "    }\n",
       "\n",
       "    .dataframe tbody tr th {\n",
       "        vertical-align: top;\n",
       "    }\n",
       "\n",
       "    .dataframe thead th {\n",
       "        text-align: right;\n",
       "    }\n",
       "</style>\n",
       "<table border=\"1\" class=\"dataframe\">\n",
       "  <thead>\n",
       "    <tr style=\"text-align: right;\">\n",
       "      <th></th>\n",
       "      <th>PassengerId</th>\n",
       "      <th>Survived</th>\n",
       "      <th>Pclass</th>\n",
       "      <th>Age</th>\n",
       "      <th>SibSp</th>\n",
       "      <th>Parch</th>\n",
       "      <th>Fare</th>\n",
       "    </tr>\n",
       "  </thead>\n",
       "  <tbody>\n",
       "    <tr>\n",
       "      <th>count</th>\n",
       "      <td>891.000000</td>\n",
       "      <td>891.000000</td>\n",
       "      <td>891.000000</td>\n",
       "      <td>714.000000</td>\n",
       "      <td>891.000000</td>\n",
       "      <td>891.000000</td>\n",
       "      <td>891.000000</td>\n",
       "    </tr>\n",
       "    <tr>\n",
       "      <th>mean</th>\n",
       "      <td>446.000000</td>\n",
       "      <td>0.383838</td>\n",
       "      <td>2.308642</td>\n",
       "      <td>29.699118</td>\n",
       "      <td>0.523008</td>\n",
       "      <td>0.381594</td>\n",
       "      <td>32.204208</td>\n",
       "    </tr>\n",
       "    <tr>\n",
       "      <th>std</th>\n",
       "      <td>257.353842</td>\n",
       "      <td>0.486592</td>\n",
       "      <td>0.836071</td>\n",
       "      <td>14.526497</td>\n",
       "      <td>1.102743</td>\n",
       "      <td>0.806057</td>\n",
       "      <td>49.693429</td>\n",
       "    </tr>\n",
       "    <tr>\n",
       "      <th>min</th>\n",
       "      <td>1.000000</td>\n",
       "      <td>0.000000</td>\n",
       "      <td>1.000000</td>\n",
       "      <td>0.420000</td>\n",
       "      <td>0.000000</td>\n",
       "      <td>0.000000</td>\n",
       "      <td>0.000000</td>\n",
       "    </tr>\n",
       "    <tr>\n",
       "      <th>25%</th>\n",
       "      <td>223.500000</td>\n",
       "      <td>0.000000</td>\n",
       "      <td>2.000000</td>\n",
       "      <td>20.125000</td>\n",
       "      <td>0.000000</td>\n",
       "      <td>0.000000</td>\n",
       "      <td>7.910400</td>\n",
       "    </tr>\n",
       "    <tr>\n",
       "      <th>50%</th>\n",
       "      <td>446.000000</td>\n",
       "      <td>0.000000</td>\n",
       "      <td>3.000000</td>\n",
       "      <td>28.000000</td>\n",
       "      <td>0.000000</td>\n",
       "      <td>0.000000</td>\n",
       "      <td>14.454200</td>\n",
       "    </tr>\n",
       "    <tr>\n",
       "      <th>75%</th>\n",
       "      <td>668.500000</td>\n",
       "      <td>1.000000</td>\n",
       "      <td>3.000000</td>\n",
       "      <td>38.000000</td>\n",
       "      <td>1.000000</td>\n",
       "      <td>0.000000</td>\n",
       "      <td>31.000000</td>\n",
       "    </tr>\n",
       "    <tr>\n",
       "      <th>max</th>\n",
       "      <td>891.000000</td>\n",
       "      <td>1.000000</td>\n",
       "      <td>3.000000</td>\n",
       "      <td>80.000000</td>\n",
       "      <td>8.000000</td>\n",
       "      <td>6.000000</td>\n",
       "      <td>512.329200</td>\n",
       "    </tr>\n",
       "  </tbody>\n",
       "</table>\n",
       "</div>"
      ],
      "text/plain": [
       "       PassengerId    Survived      Pclass         Age       SibSp  \\\n",
       "count   891.000000  891.000000  891.000000  714.000000  891.000000   \n",
       "mean    446.000000    0.383838    2.308642   29.699118    0.523008   \n",
       "std     257.353842    0.486592    0.836071   14.526497    1.102743   \n",
       "min       1.000000    0.000000    1.000000    0.420000    0.000000   \n",
       "25%     223.500000    0.000000    2.000000   20.125000    0.000000   \n",
       "50%     446.000000    0.000000    3.000000   28.000000    0.000000   \n",
       "75%     668.500000    1.000000    3.000000   38.000000    1.000000   \n",
       "max     891.000000    1.000000    3.000000   80.000000    8.000000   \n",
       "\n",
       "            Parch        Fare  \n",
       "count  891.000000  891.000000  \n",
       "mean     0.381594   32.204208  \n",
       "std      0.806057   49.693429  \n",
       "min      0.000000    0.000000  \n",
       "25%      0.000000    7.910400  \n",
       "50%      0.000000   14.454200  \n",
       "75%      0.000000   31.000000  \n",
       "max      6.000000  512.329200  "
      ]
     },
     "execution_count": 207,
     "metadata": {},
     "output_type": "execute_result"
    }
   ],
   "source": [
    "# Let's understand a bit more on \n",
    "train_df.describe()"
   ]
  },
  {
   "cell_type": "markdown",
   "metadata": {},
   "source": [
    "#### Insights from above output\n",
    "The above output is only for numeric columns within the dataset\n",
    "1. **Passenger Id** - Seems to be a discrete varaible with numbering starting from 1(min) up to 891(Max). We cam see 50% value that's the exact center of this data. That is clearly half the total population.\n",
    "2. **Survived** - This is the output label we want to predict. This is categorical in nature that has only two possibilities 1(Survived) or a 0(Lost).\n",
    "3. **PClass** - This is the class of passenger. It's minimum is 1 (First class). Max is 3 (3rd class). On a Frequency distribution of samples of this class, \n",
    "* 25% of People have Class less than or equal to Class 2. This indicates 1st class travellers are less than 25%\n",
    "* 50% of them is less than or equal to Class-3. This indicates more than 50% are in Class-3.\n",
    "* 75% of them are less than or equal to Class-3.\n",
    "4. **Age** - This is a numeric continous value here ranging from 0.42 years to 80 years. 75% of them are below 39 years. 50% of them are below 29 years.\n",
    "5. **SibSp** - This is a discrete number with very limited set of values, but these are numeric in nature. Varies between 0 to 8, with 75% less thhan or equal to 1 SibSP.\n",
    "6. **Parch** - This is a discrete number with very limited set of values, but these are numeric in nature. Values  range from 0 to 6. With 75% or more people travelling without Families.\n",
    "7. **Fare** - A continuous value having a range of Fare in the given range above."
   ]
  },
  {
   "cell_type": "code",
   "execution_count": 212,
   "metadata": {},
   "outputs": [
    {
     "name": "stdout",
     "output_type": "stream",
     "text": [
      "Counts of Gender Values\n",
      " -------------------------\n",
      " male      577\n",
      "female    314\n",
      "Name: Sex, dtype: int64\n",
      "\n",
      "Counts of Embarked Values\n",
      " ------------------------------\n",
      " S    644\n",
      "C    168\n",
      "Q     77\n",
      "Name: Embarked, dtype: int64\n"
     ]
    },
    {
     "data": {
      "text/html": [
       "<div>\n",
       "<style scoped>\n",
       "    .dataframe tbody tr th:only-of-type {\n",
       "        vertical-align: middle;\n",
       "    }\n",
       "\n",
       "    .dataframe tbody tr th {\n",
       "        vertical-align: top;\n",
       "    }\n",
       "\n",
       "    .dataframe thead th {\n",
       "        text-align: right;\n",
       "    }\n",
       "</style>\n",
       "<table border=\"1\" class=\"dataframe\">\n",
       "  <thead>\n",
       "    <tr style=\"text-align: right;\">\n",
       "      <th></th>\n",
       "      <th>Name</th>\n",
       "      <th>Sex</th>\n",
       "      <th>Ticket</th>\n",
       "      <th>Cabin</th>\n",
       "      <th>Embarked</th>\n",
       "    </tr>\n",
       "  </thead>\n",
       "  <tbody>\n",
       "    <tr>\n",
       "      <th>count</th>\n",
       "      <td>891</td>\n",
       "      <td>891</td>\n",
       "      <td>891</td>\n",
       "      <td>204</td>\n",
       "      <td>889</td>\n",
       "    </tr>\n",
       "    <tr>\n",
       "      <th>unique</th>\n",
       "      <td>891</td>\n",
       "      <td>2</td>\n",
       "      <td>681</td>\n",
       "      <td>147</td>\n",
       "      <td>3</td>\n",
       "    </tr>\n",
       "    <tr>\n",
       "      <th>top</th>\n",
       "      <td>del Carlo, Mr. Sebastiano</td>\n",
       "      <td>male</td>\n",
       "      <td>347082</td>\n",
       "      <td>B96 B98</td>\n",
       "      <td>S</td>\n",
       "    </tr>\n",
       "    <tr>\n",
       "      <th>freq</th>\n",
       "      <td>1</td>\n",
       "      <td>577</td>\n",
       "      <td>7</td>\n",
       "      <td>4</td>\n",
       "      <td>644</td>\n",
       "    </tr>\n",
       "  </tbody>\n",
       "</table>\n",
       "</div>"
      ],
      "text/plain": [
       "                             Name   Sex  Ticket    Cabin Embarked\n",
       "count                         891   891     891      204      889\n",
       "unique                        891     2     681      147        3\n",
       "top     del Carlo, Mr. Sebastiano  male  347082  B96 B98        S\n",
       "freq                            1   577       7        4      644"
      ]
     },
     "execution_count": 212,
     "metadata": {},
     "output_type": "execute_result"
    }
   ],
   "source": [
    "print(\"Counts of Gender Values\\n\",\"-\"*25+\"\\n\",train_df.Sex.value_counts())\n",
    "print()\n",
    "print(\"Counts of Embarked Values\\n\",\"-\"*30+\"\\n\",train_df.Embarked.value_counts())\n",
    "train_df.describe(include='O')"
   ]
  },
  {
   "cell_type": "markdown",
   "metadata": {},
   "source": [
    "#### Insights from above output\n",
    "The above output is only for Categorical or Text columns within the dataset\n",
    "1. **Name** - Text that's 100% Unique. Variables like this may not have much influence on the outcome\n",
    "2. **Sex** - A Categorical value that has two unqiue values given, with Highest Frequency is 577 for Male.\n",
    "3. **Ticket** - An Alphanumeric series with highly varied values, almost 680 out of 890 unique.\n",
    "4. **Cabin** - An Alphanumeric series with highly varied values, almost 147 out of 204 unique\n",
    "5. **Embarked** - A Categorical values with 3 possibilities with highesy being 'S' having 644 values out of 889."
   ]
  },
  {
   "cell_type": "markdown",
   "metadata": {},
   "source": [
    "##### Missing Values\n",
    "Let's understand Missing Values a bit more closely"
   ]
  },
  {
   "cell_type": "code",
   "execution_count": 213,
   "metadata": {},
   "outputs": [
    {
     "data": {
      "text/plain": [
       "PassengerId      0\n",
       "Survived         0\n",
       "Pclass           0\n",
       "Name             0\n",
       "Sex              0\n",
       "Age            177\n",
       "SibSp            0\n",
       "Parch            0\n",
       "Ticket           0\n",
       "Fare             0\n",
       "Cabin          687\n",
       "Embarked         2\n",
       "dtype: int64"
      ]
     },
     "execution_count": 213,
     "metadata": {},
     "output_type": "execute_result"
    }
   ],
   "source": [
    "# Let's find the Null values/NaN values are present\n",
    "train_df.isnull().sum()"
   ]
  },
  {
   "cell_type": "code",
   "execution_count": 214,
   "metadata": {},
   "outputs": [
    {
     "name": "stdout",
     "output_type": "stream",
     "text": [
      "Percentage of Missing Values for Age - 19.87%\n",
      "Percentage of Missing Values for Cabin - 77.10%\n",
      "Percentage of Missing Values for Embarked - 0.22%\n"
     ]
    },
    {
     "data": {
      "image/png": "[encoded data removed]",
      "text/plain": [
       "<Figure size 432x288 with 1 Axes>"
      ]
     },
     "metadata": {},
     "output_type": "display_data"
    }
   ],
   "source": [
    "# We can visualize pictorially using Searborn and pass a matrix of Null or Non-null for each DF value\n",
    "sns.heatmap(train_df.isnull(),yticklabels=False,cbar=False,cmap='viridis')\n",
    "# Also, let's print the % of Missing values\n",
    "print(\"Percentage of Missing Values for Age - %.2f%%\" %(train_df.Age.isnull().sum()/train_df.shape[0]*100))\n",
    "print(\"Percentage of Missing Values for Cabin - {:.2f}%\".format(train_df.Cabin.isnull().sum()/train_df.shape[0]*100))\n",
    "print(\"Percentage of Missing Values for Embarked - {:.2f}%\".format(train_df.Embarked.isnull().sum()/train_df.shape[0]*100))"
   ]
  },
  {
   "cell_type": "markdown",
   "metadata": {},
   "source": [
    "##### Insights from above graph\n",
    "We can understand that there are two significant columns with missing Values. Age and Cabin with Cabing being the highest portion of missing values. Very few values from Embarked column are missing that's less than 1%, hence ignorable. We need to handle others in next steps.\n"
   ]
  },
  {
   "cell_type": "markdown",
   "metadata": {},
   "source": [
    "#### Let's deep dive to Various Categorical Parameters and their relation with Output Parameter (Survived)\n",
    "As next steps, let's visualize how different parameters are related to the Survival outcome by plotting graphs against each other."
   ]
  },
  {
   "cell_type": "code",
   "execution_count": 327,
   "metadata": {},
   "outputs": [
    {
     "data": {
      "image/png": "[encoded data removed]",
      "text/plain": [
       "<Figure size 432x288 with 1 Axes>"
      ]
     },
     "metadata": {},
     "output_type": "display_data"
    },
    {
     "data": {
      "image/png": "[encoded data removed]",
      "text/plain": [
       "<Figure size 432x288 with 1 Axes>"
      ]
     },
     "metadata": {},
     "output_type": "display_data"
    },
    {
     "data": {
      "image/png": "[encoded data removed]",
      "text/plain": [
       "<Figure size 432x288 with 1 Axes>"
      ]
     },
     "metadata": {},
     "output_type": "display_data"
    },
    {
     "data": {
      "image/png": "[encoded data removed]",
      "text/plain": [
       "<Figure size 432x288 with 1 Axes>"
      ]
     },
     "metadata": {},
     "output_type": "display_data"
    }
   ],
   "source": [
    "# Let's first visualiza all the categorical Parameters with their counts visually\n",
    "sns.set_style('whitegrid')\n",
    "sns.countplot(x='Survived',data=train_df)\n",
    "plt.title(\"Survived & Deceased People Counts\")\n",
    "plt.show()\n",
    "sns.countplot(x='Pclass',data=train_df)\n",
    "plt.title(\"Counts Of Passenger Class\")\n",
    "plt.show()\n",
    "sns.countplot(x='Embarked',data=train_df)\n",
    "plt.title(\"Counts Of Embarked points\")\n",
    "plt.show()\n",
    "sns.countplot(x='Sex',data=train_df)\n",
    "plt.title(\"Counts Of Gender\")\n",
    "plt.show()"
   ]
  },
  {
   "cell_type": "markdown",
   "metadata": {},
   "source": [
    "##### Insights from above graph\n",
    "We can understand that there is significantly higher number of people that lost their lives compared to those that were saved. Also, the distribution of values for Passenger Class, Sex, Embarked are clear.\n"
   ]
  },
  {
   "cell_type": "code",
   "execution_count": 217,
   "metadata": {},
   "outputs": [
    {
     "data": {
      "text/plain": [
       "<AxesSubplot:title={'center':'Survived People vs Gender'}, xlabel='Survived', ylabel='count'>"
      ]
     },
     "execution_count": 217,
     "metadata": {},
     "output_type": "execute_result"
    },
    {
     "data": {
      "image/png": "[encoded data removed]",
      "text/plain": [
       "<Figure size 432x288 with 1 Axes>"
      ]
     },
     "metadata": {},
     "output_type": "display_data"
    }
   ],
   "source": [
    "sns.set_style('whitegrid')\n",
    "#sns.countplot(x='Survived',data=train_df,hue='Sex', palette='RdBu_r')\n",
    "plt.title(\"Survived People vs Gender\")\n",
    "sns.countplot(x='Survived',data=train_df,hue='Sex', palette='PiYG')"
   ]
  },
  {
   "cell_type": "markdown",
   "metadata": {},
   "source": [
    "##### Insights from above graph\n",
    "We can understand that the Female population have a higher chance of survival than Male. Hence, this is an important parameter in building our predictive model."
   ]
  },
  {
   "cell_type": "code",
   "execution_count": 218,
   "metadata": {},
   "outputs": [
    {
     "data": {
      "text/plain": [
       "<AxesSubplot:title={'center':'Passenger Class Vs Survived'}, xlabel='Survived', ylabel='count'>"
      ]
     },
     "execution_count": 218,
     "metadata": {},
     "output_type": "execute_result"
    },
    {
     "data": {
      "image/png": "[encoded data removed]",
      "text/plain": [
       "<Figure size 432x288 with 1 Axes>"
      ]
     },
     "metadata": {},
     "output_type": "display_data"
    }
   ],
   "source": [
    "sns.set_style('whitegrid')\n",
    "#sns.countplot(x='Survived',data=train_df,hue='Sex', palette='RdBu_r')\n",
    "plt.title(\"Passenger Class Vs Survived\")\n",
    "sns.countplot(x='Survived',data=train_df,hue='Pclass',palette='rainbow')"
   ]
  },
  {
   "cell_type": "markdown",
   "metadata": {},
   "source": [
    "##### Insights from above graph\n",
    "We can understand that the 1st Class Passengers have a higher chance of survival than the other two classes. Second class have nearlt equal chances of survival. Where as there were a higher percentage of lives lost for 3rd class passengers. This indicates there is a high corelation of this variable with Survial. <br> <br>"
   ]
  },
  {
   "cell_type": "code",
   "execution_count": 219,
   "metadata": {},
   "outputs": [
    {
     "name": "stderr",
     "output_type": "stream",
     "text": [
      "/Users/babitha/.pyenv/versions/anaconda3-2021.05/lib/python3.8/site-packages/seaborn/distributions.py:2557: FutureWarning: `distplot` is a deprecated function and will be removed in a future version. Please adapt your code to use either `displot` (a figure-level function with similar flexibility) or `histplot` (an axes-level function for histograms).\n",
      "  warnings.warn(msg, FutureWarning)\n"
     ]
    },
    {
     "name": "stdout",
     "output_type": "stream",
     "text": [
      "Mean of Age - 29.70\n",
      "Median of Age - 28.00\n"
     ]
    },
    {
     "data": {
      "image/png": "[encoded data removed]",
      "text/plain": [
       "<Figure size 432x288 with 1 Axes>"
      ]
     },
     "metadata": {},
     "output_type": "display_data"
    }
   ],
   "source": [
    "\n",
    "plt.title(\"Age Probability Distribution of the Population\")\n",
    "sns.distplot(train_df['Age'].dropna(),kde=True,color='darkred',bins=40)\n",
    "\n",
    "print(\"Mean of Age - {:0.2f}\".format(train_df.Age.mean(skipna=True)))\n",
    "print(\"Median of Age - {:0.2f}\".format(train_df.Age.median(skipna=True)))\n",
    "\n",
    "#sns.distplot(train_df['Age'],kde=True,color='darkred',bins=40)"
   ]
  },
  {
   "cell_type": "markdown",
   "metadata": {},
   "source": [
    "##### Insights from above graph\n",
    "We can understand that Age is reasonably normally distributed variable, as the probablity density curve is looking like a Bell curve. Majority of the passengers are in the age groups of 20-40 years. However, we see that it's right skewed or right dragged, so the mean is tilted right. It's an important observation to note so that we can use this information while treating missing values."
   ]
  },
  {
   "cell_type": "code",
   "execution_count": 220,
   "metadata": {},
   "outputs": [
    {
     "data": {
      "image/png": "[encoded data removed]",
      "text/plain": [
       "<Figure size 432x288 with 1 Axes>"
      ]
     },
     "metadata": {},
     "output_type": "display_data"
    },
    {
     "data": {
      "image/png": "[encoded data removed]",
      "text/plain": [
       "<Figure size 432x288 with 1 Axes>"
      ]
     },
     "metadata": {},
     "output_type": "display_data"
    },
    {
     "data": {
      "image/png": "[encoded data removed]",
      "text/plain": [
       "<Figure size 432x288 with 1 Axes>"
      ]
     },
     "metadata": {},
     "output_type": "display_data"
    },
    {
     "data": {
      "image/png": "[encoded data removed]",
      "text/plain": [
       "<Figure size 432x288 with 1 Axes>"
      ]
     },
     "metadata": {},
     "output_type": "display_data"
    }
   ],
   "source": [
    "# Now, let's isualize other categorical values' counts and their relation to the outcome\n",
    "sns.countplot(x='SibSp',data=train_df)\n",
    "plt.title(\"Counts & Frequencies of Sibling and Spouse\")\n",
    "plt.show()\n",
    "plt.title(\"Survival vs Sibling Spouse\")\n",
    "sns.countplot(x='Survived',data=train_df,hue='SibSp')\n",
    "plt.show()\n",
    "plt.title(\"Counts & Frequencies of Parents and Children\")\n",
    "sns.countplot(x='Parch',data=train_df)\n",
    "plt.show()\n",
    "plt.title(\"Survival vs Parents and Children\")\n",
    "sns.countplot(x='Survived',data=train_df,hue='Parch')\n",
    "plt.show()"
   ]
  },
  {
   "cell_type": "markdown",
   "metadata": {},
   "source": [
    "##### Insights from above graph\n",
    "An important observation from the above plt is that, Passengers travelling alone, survived less. Where as Passengers with Families were relatively at a better chance of survival. Both Parameters Parch and SibSp have very similar impact on outcome. Hence, we could derive a useful feature out of this later."
   ]
  },
  {
   "cell_type": "code",
   "execution_count": 221,
   "metadata": {},
   "outputs": [
    {
     "data": {
      "text/plain": [
       "<AxesSubplot:>"
      ]
     },
     "execution_count": 221,
     "metadata": {},
     "output_type": "execute_result"
    },
    {
     "data": {
      "image/png": "[encoded data removed]",
      "text/plain": [
       "<Figure size 576x288 with 1 Axes>"
      ]
     },
     "metadata": {},
     "output_type": "display_data"
    }
   ],
   "source": [
    "# Fare Visualization - using Matplotlib's hist - similar to sns.dist\n",
    "train_df['Fare'].hist(color='green',bins=40,figsize=(8,4))"
   ]
  },
  {
   "cell_type": "markdown",
   "metadata": {},
   "source": [
    "##### Insights from above graph\n",
    "This is probably indicating the trends from Passenger class, there are pretty high number of people that paid lower Fare, the population that paid higher fare gradually reduced."
   ]
  },
  {
   "cell_type": "markdown",
   "metadata": {},
   "source": [
    "### 3 Data Pre-Processing/Data Cleaning\n",
    "In this stage, we will make sure the data is cleansed and prepared to a stage that it can be fed to Machiine Learning Models. Primarily, we will look at imputing missing values, and transforming categorical values. We can also eleminate columns that are unimportant, remove rows that doesn't make sense; and so on.."
   ]
  },
  {
   "cell_type": "code",
   "execution_count": 66,
   "metadata": {},
   "outputs": [
    {
     "data": {
      "text/plain": [
       "<AxesSubplot:xlabel='Pclass', ylabel='Age'>"
      ]
     },
     "execution_count": 66,
     "metadata": {},
     "output_type": "execute_result"
    },
    {
     "data": {
      "image/png": "[encoded data removed]",
      "text/plain": [
       "<Figure size 864x504 with 1 Axes>"
      ]
     },
     "metadata": {},
     "output_type": "display_data"
    }
   ],
   "source": [
    "# Is there any trends of Average Age against PClass?\n",
    "plt.figure(figsize=(12,7))\n",
    "sns.boxplot(x='Pclass',y='Age',data=train_df,palette='rainbow')"
   ]
  },
  {
   "cell_type": "markdown",
   "metadata": {},
   "source": [
    "##### Insights from above graph\n",
    "Here, we can observe if Passenger classes and Age have some relationship. It shows a trend here; Barring the outliers that were shown outside the Whiskers, we can see that First class has older population; and 3rd calss has much younger opopulation. This is useful to impute missing values for Age according to the Passenger class. Such are the examples of hidden patterns that we need to bring out through Analysis."
   ]
  },
  {
   "cell_type": "markdown",
   "metadata": {},
   "source": [
    "#### Impute Missing Values\n",
    "As we observed that 3 fields were having null values - Age, Cabin and Embarked, we will see how to impute them, using some safer techniques.\n",
    "* **Age** - We can take an Average based on Passenger Class and impute an Average Age\n",
    "* **Cabin** - Since majority are missing, we will ignore this column by removing it. Not the best approach, but it's no good to impute values if majority of values are missing. It's better to omit or gather more data from source.\n",
    "* **Embarked** - We could impute by inserting the maximum frequency value of the Embarked point, which is S."
   ]
  },
  {
   "cell_type": "code",
   "execution_count": 370,
   "metadata": {},
   "outputs": [],
   "source": [
    "# Let's now impute missing Ages with Average values.\n",
    "# Let's write a function that returns an Average Age from above figure for a given class\n",
    "def impute_missing_age(vals):\n",
    "    ag = vals[0]\n",
    "    pcl = vals[1]\n",
    "    if pd.isnull(ag):\n",
    "        if pcl==1:\n",
    "            return 37\n",
    "        elif pcl==2:\n",
    "            return 28\n",
    "        else:\n",
    "            return 24\n",
    "    else:\n",
    "        return ag"
   ]
  },
  {
   "cell_type": "code",
   "execution_count": 371,
   "metadata": {},
   "outputs": [
    {
     "data": {
      "text/plain": [
       "<AxesSubplot:>"
      ]
     },
     "execution_count": 371,
     "metadata": {},
     "output_type": "execute_result"
    },
    {
     "data": {
      "image/png": "[encoded data removed]",
      "text/plain": [
       "<Figure size 432x288 with 2 Axes>"
      ]
     },
     "metadata": {},
     "output_type": "display_data"
    }
   ],
   "source": [
    "# You can apply the impute function on the two coluns and update Age accordingly\n",
    "# note below, the function is applied for each row within the Age and PClass subset of the Data Frame, \n",
    "# the values of Age and PClass are passed as parameters to the function and the return value is assigned to Age column\n",
    "train_df['Age'] = train_df[['Age','Pclass']].apply(impute_missing_age,axis=1)\n",
    "# We can see now that Age is properly fixed\n",
    "sns.heatmap(train_df.isnull(),yticklabels=False,cmap='viridis')"
   ]
  },
  {
   "cell_type": "code",
   "execution_count": 373,
   "metadata": {},
   "outputs": [
    {
     "data": {
      "text/plain": [
       "'S'"
      ]
     },
     "execution_count": 373,
     "metadata": {},
     "output_type": "execute_result"
    }
   ],
   "source": [
    "# Which Value out of the possible values has the maximum frequency, we will impute null values with that value\n",
    "#train_df.Embarked.value_counts()\n",
    "train_df.Embarked.value_counts().idxmax()"
   ]
  },
  {
   "cell_type": "code",
   "execution_count": 338,
   "metadata": {},
   "outputs": [
    {
     "data": {
      "text/plain": [
       "<AxesSubplot:>"
      ]
     },
     "execution_count": 338,
     "metadata": {},
     "output_type": "execute_result"
    },
    {
     "data": {
      "image/png": "[encoded data removed]",
      "text/plain": [
       "<Figure size 432x288 with 2 Axes>"
      ]
     },
     "metadata": {},
     "output_type": "display_data"
    }
   ],
   "source": [
    "train_df.Embarked.fillna(train_df.Embarked.value_counts().idxmax(), inplace=True)\n",
    "sns.heatmap(train_df.isnull(),yticklabels=False,cmap='viridis')"
   ]
  },
  {
   "cell_type": "markdown",
   "metadata": {},
   "source": [
    "#### Let's visualize Age after correcting\n",
    "We can see that after Age correction, the curve is better normalized with reduced skewness"
   ]
  },
  {
   "cell_type": "code",
   "execution_count": 367,
   "metadata": {},
   "outputs": [
    {
     "data": {
      "image/png": "[encoded data removed]",
      "text/plain": [
       "<Figure size 432x288 with 1 Axes>"
      ]
     },
     "metadata": {},
     "output_type": "display_data"
    },
    {
     "data": {
      "image/png": "[encoded data removed]",
      "text/plain": [
       "<Figure size 432x288 with 1 Axes>"
      ]
     },
     "metadata": {},
     "output_type": "display_data"
    },
    {
     "name": "stdout",
     "output_type": "stream",
     "text": [
      "80.0\n",
      "29.054062850729515 29.69911764705882\n"
     ]
    }
   ],
   "source": [
    "sns.histplot(data=train_df['Age'],bins=40,kde=True, color='teal')\n",
    "plt.title(\"Age Distribution After correcting null values\")\n",
    "plt.show()\n",
    "original_data = pd.read_csv('./train.csv')\n",
    "sns.histplot(data=original_data['Age'],bins=40,kde=True, color='orange')\n",
    "plt.title(\"Age Distribution Before correcting null values\")\n",
    "plt.show()\n",
    "print(train_df.Age.max())\n",
    "print(train_df.Age.mean(), original_data['Age'].mean())"
   ]
  },
  {
   "cell_type": "code",
   "execution_count": 339,
   "metadata": {},
   "outputs": [
    {
     "name": "stdout",
     "output_type": "stream",
     "text": [
      "<class 'pandas.core.frame.DataFrame'>\n",
      "RangeIndex: 891 entries, 0 to 890\n",
      "Data columns (total 12 columns):\n",
      " #   Column       Non-Null Count  Dtype  \n",
      "---  ------       --------------  -----  \n",
      " 0   PassengerId  891 non-null    int64  \n",
      " 1   Survived     891 non-null    int64  \n",
      " 2   Pclass       891 non-null    int64  \n",
      " 3   Name         891 non-null    object \n",
      " 4   Sex          891 non-null    object \n",
      " 5   Age          891 non-null    float64\n",
      " 6   SibSp        891 non-null    int64  \n",
      " 7   Parch        891 non-null    int64  \n",
      " 8   Ticket       891 non-null    object \n",
      " 9   Fare         891 non-null    float64\n",
      " 10  Cabin        204 non-null    object \n",
      " 11  Embarked     891 non-null    object \n",
      "dtypes: float64(2), int64(5), object(5)\n",
      "memory usage: 83.7+ KB\n",
      "None\n"
     ]
    }
   ],
   "source": [
    "print(train_df.info())"
   ]
  },
  {
   "cell_type": "markdown",
   "metadata": {},
   "source": [
    "### 4 Feature Engineering"
   ]
  },
  {
   "cell_type": "code",
   "execution_count": 374,
   "metadata": {},
   "outputs": [
    {
     "name": "stdout",
     "output_type": "stream",
     "text": [
      "PassengerId      0\n",
      "Survived         0\n",
      "Name             0\n",
      "Age              0\n",
      "SibSp            0\n",
      "Parch            0\n",
      "Ticket           0\n",
      "Fare             0\n",
      "Cabin          687\n",
      "Pclass_1         0\n",
      "Pclass_2         0\n",
      "Pclass_3         0\n",
      "Embarked_C       0\n",
      "Embarked_Q       0\n",
      "Embarked_S       0\n",
      "Sex_female       0\n",
      "Sex_male         0\n",
      "dtype: int64\n",
      "<class 'pandas.core.frame.DataFrame'>\n",
      "RangeIndex: 891 entries, 0 to 890\n",
      "Data columns (total 17 columns):\n",
      " #   Column       Non-Null Count  Dtype  \n",
      "---  ------       --------------  -----  \n",
      " 0   PassengerId  891 non-null    int64  \n",
      " 1   Survived     891 non-null    int64  \n",
      " 2   Name         891 non-null    object \n",
      " 3   Age          891 non-null    float64\n",
      " 4   SibSp        891 non-null    int64  \n",
      " 5   Parch        891 non-null    int64  \n",
      " 6   Ticket       891 non-null    object \n",
      " 7   Fare         891 non-null    float64\n",
      " 8   Cabin        204 non-null    object \n",
      " 9   Pclass_1     891 non-null    uint8  \n",
      " 10  Pclass_2     891 non-null    uint8  \n",
      " 11  Pclass_3     891 non-null    uint8  \n",
      " 12  Embarked_C   891 non-null    uint8  \n",
      " 13  Embarked_Q   891 non-null    uint8  \n",
      " 14  Embarked_S   891 non-null    uint8  \n",
      " 15  Sex_female   891 non-null    uint8  \n",
      " 16  Sex_male     891 non-null    uint8  \n",
      "dtypes: float64(2), int64(4), object(3), uint8(8)\n",
      "memory usage: 69.7+ KB\n"
     ]
    }
   ],
   "source": [
    "# Transform Sex & Embarked columns as numeric representational values\n",
    "# Using get_dummies method, which creates each possible categorical values of a column as a new column \n",
    "# and assigns 1 or a 0. The same is repeated for all field values of the column. \n",
    "train_df = pd.get_dummies(train_df,columns=['Pclass','Embarked','Sex'])\n",
    "print(train_df.isnull().sum())\n",
    "train_df.info()"
   ]
  },
  {
   "cell_type": "code",
   "execution_count": 375,
   "metadata": {},
   "outputs": [
    {
     "name": "stdout",
     "output_type": "stream",
     "text": [
      "PassengerId      0\n",
      "Survived         0\n",
      "Name             0\n",
      "Age              0\n",
      "SibSp            0\n",
      "Parch            0\n",
      "Ticket           0\n",
      "Fare             0\n",
      "Cabin          687\n",
      "Pclass_2         0\n",
      "Pclass_3         0\n",
      "Embarked_Q       0\n",
      "Embarked_S       0\n",
      "Sex_female       0\n",
      "dtype: int64\n"
     ]
    },
    {
     "data": {
      "text/html": [
       "<div>\n",
       "<style scoped>\n",
       "    .dataframe tbody tr th:only-of-type {\n",
       "        vertical-align: middle;\n",
       "    }\n",
       "\n",
       "    .dataframe tbody tr th {\n",
       "        vertical-align: top;\n",
       "    }\n",
       "\n",
       "    .dataframe thead th {\n",
       "        text-align: right;\n",
       "    }\n",
       "</style>\n",
       "<table border=\"1\" class=\"dataframe\">\n",
       "  <thead>\n",
       "    <tr style=\"text-align: right;\">\n",
       "      <th></th>\n",
       "      <th>PassengerId</th>\n",
       "      <th>Survived</th>\n",
       "      <th>Name</th>\n",
       "      <th>Age</th>\n",
       "      <th>SibSp</th>\n",
       "      <th>Parch</th>\n",
       "      <th>Ticket</th>\n",
       "      <th>Fare</th>\n",
       "      <th>Cabin</th>\n",
       "      <th>Pclass_2</th>\n",
       "      <th>Pclass_3</th>\n",
       "      <th>Embarked_Q</th>\n",
       "      <th>Embarked_S</th>\n",
       "      <th>Sex_female</th>\n",
       "    </tr>\n",
       "  </thead>\n",
       "  <tbody>\n",
       "    <tr>\n",
       "      <th>0</th>\n",
       "      <td>1</td>\n",
       "      <td>0</td>\n",
       "      <td>Braund, Mr. Owen Harris</td>\n",
       "      <td>22.0</td>\n",
       "      <td>1</td>\n",
       "      <td>0</td>\n",
       "      <td>A/5 21171</td>\n",
       "      <td>7.2500</td>\n",
       "      <td>NaN</td>\n",
       "      <td>0</td>\n",
       "      <td>1</td>\n",
       "      <td>0</td>\n",
       "      <td>1</td>\n",
       "      <td>0</td>\n",
       "    </tr>\n",
       "    <tr>\n",
       "      <th>1</th>\n",
       "      <td>2</td>\n",
       "      <td>1</td>\n",
       "      <td>Cumings, Mrs. John Bradley (Florence Briggs Th...</td>\n",
       "      <td>38.0</td>\n",
       "      <td>1</td>\n",
       "      <td>0</td>\n",
       "      <td>PC 17599</td>\n",
       "      <td>71.2833</td>\n",
       "      <td>C85</td>\n",
       "      <td>0</td>\n",
       "      <td>0</td>\n",
       "      <td>0</td>\n",
       "      <td>0</td>\n",
       "      <td>1</td>\n",
       "    </tr>\n",
       "    <tr>\n",
       "      <th>2</th>\n",
       "      <td>3</td>\n",
       "      <td>1</td>\n",
       "      <td>Heikkinen, Miss. Laina</td>\n",
       "      <td>26.0</td>\n",
       "      <td>0</td>\n",
       "      <td>0</td>\n",
       "      <td>STON/O2. 3101282</td>\n",
       "      <td>7.9250</td>\n",
       "      <td>NaN</td>\n",
       "      <td>0</td>\n",
       "      <td>1</td>\n",
       "      <td>0</td>\n",
       "      <td>1</td>\n",
       "      <td>1</td>\n",
       "    </tr>\n",
       "    <tr>\n",
       "      <th>3</th>\n",
       "      <td>4</td>\n",
       "      <td>1</td>\n",
       "      <td>Futrelle, Mrs. Jacques Heath (Lily May Peel)</td>\n",
       "      <td>35.0</td>\n",
       "      <td>1</td>\n",
       "      <td>0</td>\n",
       "      <td>113803</td>\n",
       "      <td>53.1000</td>\n",
       "      <td>C123</td>\n",
       "      <td>0</td>\n",
       "      <td>0</td>\n",
       "      <td>0</td>\n",
       "      <td>1</td>\n",
       "      <td>1</td>\n",
       "    </tr>\n",
       "    <tr>\n",
       "      <th>4</th>\n",
       "      <td>5</td>\n",
       "      <td>0</td>\n",
       "      <td>Allen, Mr. William Henry</td>\n",
       "      <td>35.0</td>\n",
       "      <td>0</td>\n",
       "      <td>0</td>\n",
       "      <td>373450</td>\n",
       "      <td>8.0500</td>\n",
       "      <td>NaN</td>\n",
       "      <td>0</td>\n",
       "      <td>1</td>\n",
       "      <td>0</td>\n",
       "      <td>1</td>\n",
       "      <td>0</td>\n",
       "    </tr>\n",
       "  </tbody>\n",
       "</table>\n",
       "</div>"
      ],
      "text/plain": [
       "   PassengerId  Survived                                               Name  \\\n",
       "0            1         0                            Braund, Mr. Owen Harris   \n",
       "1            2         1  Cumings, Mrs. John Bradley (Florence Briggs Th...   \n",
       "2            3         1                             Heikkinen, Miss. Laina   \n",
       "3            4         1       Futrelle, Mrs. Jacques Heath (Lily May Peel)   \n",
       "4            5         0                           Allen, Mr. William Henry   \n",
       "\n",
       "    Age  SibSp  Parch            Ticket     Fare Cabin  Pclass_2  Pclass_3  \\\n",
       "0  22.0      1      0         A/5 21171   7.2500   NaN         0         1   \n",
       "1  38.0      1      0          PC 17599  71.2833   C85         0         0   \n",
       "2  26.0      0      0  STON/O2. 3101282   7.9250   NaN         0         1   \n",
       "3  35.0      1      0            113803  53.1000  C123         0         0   \n",
       "4  35.0      0      0            373450   8.0500   NaN         0         1   \n",
       "\n",
       "   Embarked_Q  Embarked_S  Sex_female  \n",
       "0           0           1           0  \n",
       "1           0           0           1  \n",
       "2           0           1           1  \n",
       "3           0           1           1  \n",
       "4           0           1           0  "
      ]
     },
     "execution_count": 375,
     "metadata": {},
     "output_type": "execute_result"
    }
   ],
   "source": [
    "# Now, we can drop first columns from transformed categorical values for Sex, Embarked, Passenger colums\n",
    "# This is due to Dummy variable trap\n",
    "train_df.drop(['Sex_male','Embarked_C','Pclass_1'],inplace=True,axis=1)\n",
    "print(train_df.isna().sum())\n",
    "train_df.head()"
   ]
  },
  {
   "cell_type": "code",
   "execution_count": 376,
   "metadata": {},
   "outputs": [],
   "source": [
    "# Let's Combine Parch and SibSp as a binary value whether travelling with family or not. We made an observation before\n",
    "# that travelling with Family including Siblings, Spouse or Parents and Children, has a similar effect \n",
    "# irrespective of the count of them\n",
    "train_df['Travelling_Family'] = np.where((train_df['Parch'] + train_df['SibSp'])>0,1,0)"
   ]
  },
  {
   "cell_type": "code",
   "execution_count": 377,
   "metadata": {},
   "outputs": [
    {
     "data": {
      "text/html": [
       "<div>\n",
       "<style scoped>\n",
       "    .dataframe tbody tr th:only-of-type {\n",
       "        vertical-align: middle;\n",
       "    }\n",
       "\n",
       "    .dataframe tbody tr th {\n",
       "        vertical-align: top;\n",
       "    }\n",
       "\n",
       "    .dataframe thead th {\n",
       "        text-align: right;\n",
       "    }\n",
       "</style>\n",
       "<table border=\"1\" class=\"dataframe\">\n",
       "  <thead>\n",
       "    <tr style=\"text-align: right;\">\n",
       "      <th></th>\n",
       "      <th>Survived</th>\n",
       "      <th>Age</th>\n",
       "      <th>Fare</th>\n",
       "      <th>Pclass_2</th>\n",
       "      <th>Pclass_3</th>\n",
       "      <th>Embarked_Q</th>\n",
       "      <th>Embarked_S</th>\n",
       "      <th>Sex_female</th>\n",
       "      <th>Travelling_Family</th>\n",
       "    </tr>\n",
       "  </thead>\n",
       "  <tbody>\n",
       "    <tr>\n",
       "      <th>0</th>\n",
       "      <td>0</td>\n",
       "      <td>22.0</td>\n",
       "      <td>7.2500</td>\n",
       "      <td>0</td>\n",
       "      <td>1</td>\n",
       "      <td>0</td>\n",
       "      <td>1</td>\n",
       "      <td>0</td>\n",
       "      <td>1</td>\n",
       "    </tr>\n",
       "    <tr>\n",
       "      <th>1</th>\n",
       "      <td>1</td>\n",
       "      <td>38.0</td>\n",
       "      <td>71.2833</td>\n",
       "      <td>0</td>\n",
       "      <td>0</td>\n",
       "      <td>0</td>\n",
       "      <td>0</td>\n",
       "      <td>1</td>\n",
       "      <td>1</td>\n",
       "    </tr>\n",
       "    <tr>\n",
       "      <th>2</th>\n",
       "      <td>1</td>\n",
       "      <td>26.0</td>\n",
       "      <td>7.9250</td>\n",
       "      <td>0</td>\n",
       "      <td>1</td>\n",
       "      <td>0</td>\n",
       "      <td>1</td>\n",
       "      <td>1</td>\n",
       "      <td>0</td>\n",
       "    </tr>\n",
       "    <tr>\n",
       "      <th>3</th>\n",
       "      <td>1</td>\n",
       "      <td>35.0</td>\n",
       "      <td>53.1000</td>\n",
       "      <td>0</td>\n",
       "      <td>0</td>\n",
       "      <td>0</td>\n",
       "      <td>1</td>\n",
       "      <td>1</td>\n",
       "      <td>1</td>\n",
       "    </tr>\n",
       "    <tr>\n",
       "      <th>4</th>\n",
       "      <td>0</td>\n",
       "      <td>35.0</td>\n",
       "      <td>8.0500</td>\n",
       "      <td>0</td>\n",
       "      <td>1</td>\n",
       "      <td>0</td>\n",
       "      <td>1</td>\n",
       "      <td>0</td>\n",
       "      <td>0</td>\n",
       "    </tr>\n",
       "  </tbody>\n",
       "</table>\n",
       "</div>"
      ],
      "text/plain": [
       "   Survived   Age     Fare  Pclass_2  Pclass_3  Embarked_Q  Embarked_S  \\\n",
       "0         0  22.0   7.2500         0         1           0           1   \n",
       "1         1  38.0  71.2833         0         0           0           0   \n",
       "2         1  26.0   7.9250         0         1           0           1   \n",
       "3         1  35.0  53.1000         0         0           0           1   \n",
       "4         0  35.0   8.0500         0         1           0           1   \n",
       "\n",
       "   Sex_female  Travelling_Family  \n",
       "0           0                  1  \n",
       "1           1                  1  \n",
       "2           1                  0  \n",
       "3           1                  1  \n",
       "4           0                  0  "
      ]
     },
     "execution_count": 377,
     "metadata": {},
     "output_type": "execute_result"
    }
   ],
   "source": [
    "# We can see some fields that don't have statistical significance for output value - like Pasenger Id, name, Ticket\n",
    "# We could just drop such fields\n",
    "train_df.drop(['PassengerId','Name','Ticket','Parch','SibSp','Cabin'],axis=1,inplace=True)\n",
    "train_df.head()"
   ]
  },
  {
   "cell_type": "code",
   "execution_count": 378,
   "metadata": {},
   "outputs": [
    {
     "data": {
      "image/png": "[encoded data removed]",
      "text/plain": [
       "<Figure size 432x288 with 1 Axes>"
      ]
     },
     "metadata": {},
     "output_type": "display_data"
    },
    {
     "data": {
      "image/png": "[encoded data removed]",
      "text/plain": [
       "<Figure size 576x288 with 1 Axes>"
      ]
     },
     "metadata": {},
     "output_type": "display_data"
    },
    {
     "name": "stderr",
     "output_type": "stream",
     "text": [
      "/Users/babitha/.pyenv/versions/anaconda3-2021.05/lib/python3.8/site-packages/seaborn/_decorators.py:36: FutureWarning: Pass the following variables as keyword args: x, y. From version 0.12, the only valid positional argument will be `data`, and passing other arguments without an explicit keyword will result in an error or misinterpretation.\n",
      "  warnings.warn(\n"
     ]
    },
    {
     "data": {
      "image/png": "[encoded data removed]",
      "text/plain": [
       "<Figure size 432x288 with 1 Axes>"
      ]
     },
     "metadata": {},
     "output_type": "display_data"
    }
   ],
   "source": [
    "# Now, after the Feature Engineering done so far, let's Visualize the Continuous and Categorical Values with respect \n",
    "# to the Outcome and see if we have any more patterns to be added here\n",
    "#1. Age - We can see Age distribution is almost similar, except an evident difference that younger children were saved\n",
    "sns.kdeplot(train_df[\"Age\"][train_df['Survived']==1],color='teal', shade=True, legend=('Survived','Died'))\n",
    "sns.kdeplot(train_df[\"Age\"][train_df['Survived']==0],color='orange', shade=True, legend=('Survived','Died'))\n",
    "plt.title(\"Density Plots of Age for Survivors and Deceased\")\n",
    "plt.show()\n",
    "#2. Fare - There is a notable difference in distributions for Fares of Survived vs Deceased. So, this looks to be a \n",
    "# useful predictor for our outcome\n",
    "plt.figure(figsize=(8,4))\n",
    "sns.kdeplot(train_df[\"Fare\"][train_df['Survived']==1],color='teal', shade=True)\n",
    "sns.kdeplot(train_df[\"Fare\"][train_df['Survived']==0],color='orange', shade=True)\n",
    "plt.title(\"Density Plots of Fare for Survivors and Deceased\")\n",
    "plt.show()\n",
    "#3. Travelling Alone vs Family - Those travelling with Family had a high chance of Survival\n",
    "sns.barplot('Travelling_Family', 'Survived', data=train_df, color=\"mediumturquoise\")\n",
    "plt.show()\n"
   ]
  },
  {
   "cell_type": "markdown",
   "metadata": {},
   "source": [
    "#### Let's take a Closer look at Age vs Survival to understand Average Survival by Age"
   ]
  },
  {
   "cell_type": "code",
   "execution_count": 379,
   "metadata": {},
   "outputs": [
    {
     "data": {
      "image/png": "[encoded data removed]",
      "text/plain": [
       "<Figure size 2160x576 with 1 Axes>"
      ]
     },
     "metadata": {},
     "output_type": "display_data"
    }
   ],
   "source": [
    "# The data visualization here clearly indicates that the chance of Survival is pretty high for \n",
    "# Age less than 16. Hence, deriving a feature out of it can be pretty useful, like Minor as a Binary column\n",
    "age_dist = train_df[['Age','Survived']].groupby('Age', as_index=False).mean()\n",
    "plt.figure(figsize=(30,8))\n",
    "plt.title(\"Average Survival by Age\")\n",
    "sns.barplot(x='Age',y='Survived',data=age_dist)\n",
    "plt.show()"
   ]
  },
  {
   "cell_type": "code",
   "execution_count": 380,
   "metadata": {},
   "outputs": [
    {
     "data": {
      "text/html": [
       "<div>\n",
       "<style scoped>\n",
       "    .dataframe tbody tr th:only-of-type {\n",
       "        vertical-align: middle;\n",
       "    }\n",
       "\n",
       "    .dataframe tbody tr th {\n",
       "        vertical-align: top;\n",
       "    }\n",
       "\n",
       "    .dataframe thead th {\n",
       "        text-align: right;\n",
       "    }\n",
       "</style>\n",
       "<table border=\"1\" class=\"dataframe\">\n",
       "  <thead>\n",
       "    <tr style=\"text-align: right;\">\n",
       "      <th></th>\n",
       "      <th>Survived</th>\n",
       "      <th>Age</th>\n",
       "      <th>Fare</th>\n",
       "      <th>Pclass_2</th>\n",
       "      <th>Pclass_3</th>\n",
       "      <th>Embarked_Q</th>\n",
       "      <th>Embarked_S</th>\n",
       "      <th>Sex_female</th>\n",
       "      <th>Travelling_Family</th>\n",
       "      <th>Minor</th>\n",
       "    </tr>\n",
       "  </thead>\n",
       "  <tbody>\n",
       "    <tr>\n",
       "      <th>0</th>\n",
       "      <td>0</td>\n",
       "      <td>22.0</td>\n",
       "      <td>7.2500</td>\n",
       "      <td>0</td>\n",
       "      <td>1</td>\n",
       "      <td>0</td>\n",
       "      <td>1</td>\n",
       "      <td>0</td>\n",
       "      <td>1</td>\n",
       "      <td>0</td>\n",
       "    </tr>\n",
       "    <tr>\n",
       "      <th>1</th>\n",
       "      <td>1</td>\n",
       "      <td>38.0</td>\n",
       "      <td>71.2833</td>\n",
       "      <td>0</td>\n",
       "      <td>0</td>\n",
       "      <td>0</td>\n",
       "      <td>0</td>\n",
       "      <td>1</td>\n",
       "      <td>1</td>\n",
       "      <td>0</td>\n",
       "    </tr>\n",
       "    <tr>\n",
       "      <th>2</th>\n",
       "      <td>1</td>\n",
       "      <td>26.0</td>\n",
       "      <td>7.9250</td>\n",
       "      <td>0</td>\n",
       "      <td>1</td>\n",
       "      <td>0</td>\n",
       "      <td>1</td>\n",
       "      <td>1</td>\n",
       "      <td>0</td>\n",
       "      <td>0</td>\n",
       "    </tr>\n",
       "    <tr>\n",
       "      <th>3</th>\n",
       "      <td>1</td>\n",
       "      <td>35.0</td>\n",
       "      <td>53.1000</td>\n",
       "      <td>0</td>\n",
       "      <td>0</td>\n",
       "      <td>0</td>\n",
       "      <td>1</td>\n",
       "      <td>1</td>\n",
       "      <td>1</td>\n",
       "      <td>0</td>\n",
       "    </tr>\n",
       "    <tr>\n",
       "      <th>4</th>\n",
       "      <td>0</td>\n",
       "      <td>35.0</td>\n",
       "      <td>8.0500</td>\n",
       "      <td>0</td>\n",
       "      <td>1</td>\n",
       "      <td>0</td>\n",
       "      <td>1</td>\n",
       "      <td>0</td>\n",
       "      <td>0</td>\n",
       "      <td>0</td>\n",
       "    </tr>\n",
       "  </tbody>\n",
       "</table>\n",
       "</div>"
      ],
      "text/plain": [
       "   Survived   Age     Fare  Pclass_2  Pclass_3  Embarked_Q  Embarked_S  \\\n",
       "0         0  22.0   7.2500         0         1           0           1   \n",
       "1         1  38.0  71.2833         0         0           0           0   \n",
       "2         1  26.0   7.9250         0         1           0           1   \n",
       "3         1  35.0  53.1000         0         0           0           1   \n",
       "4         0  35.0   8.0500         0         1           0           1   \n",
       "\n",
       "   Sex_female  Travelling_Family  Minor  \n",
       "0           0                  1      0  \n",
       "1           1                  1      0  \n",
       "2           1                  0      0  \n",
       "3           1                  1      0  \n",
       "4           0                  0      0  "
      ]
     },
     "execution_count": 380,
     "metadata": {},
     "output_type": "execute_result"
    }
   ],
   "source": [
    "train_df['Minor'] = np.where((train_df['Age']<=15),1,0)\n",
    "train_df.head()"
   ]
  },
  {
   "cell_type": "markdown",
   "metadata": {},
   "source": [
    "###### Now, let's do all thse changes on Test Data set\n",
    "1. Age imputed with Function\n",
    "2. Embarked Imputed with Max Frequency 'S'\n",
    "3. Sex, Pclass, Embarked converted as numerics through dummies\n",
    "4. Derived Feature - Travelling with Family?\n",
    "5. Derive Feature - is Minor?\n",
    "6. Drop PassengerId, Name, Ticket, Cabin, Sibsp, Parch columns\n",
    "7. Drop First Column for Dummy Variale Trap - Sex_male,Pclass_1,Embarked_C"
   ]
  },
  {
   "cell_type": "code",
   "execution_count": 381,
   "metadata": {},
   "outputs": [
    {
     "name": "stdout",
     "output_type": "stream",
     "text": [
      "Age                  0\n",
      "Fare                 1\n",
      "Pclass_2             0\n",
      "Pclass_3             0\n",
      "Embarked_Q           0\n",
      "Embarked_S           0\n",
      "Sex_female           0\n",
      "Travelling_Family    0\n",
      "Minor                0\n",
      "dtype: int64\n",
      "   Survived   Age     Fare  Pclass_2  Pclass_3  Embarked_Q  Embarked_S  \\\n",
      "0         0  22.0   7.2500         0         1           0           1   \n",
      "1         1  38.0  71.2833         0         0           0           0   \n",
      "2         1  26.0   7.9250         0         1           0           1   \n",
      "3         1  35.0  53.1000         0         0           0           1   \n",
      "4         0  35.0   8.0500         0         1           0           1   \n",
      "\n",
      "   Sex_female  Travelling_Family  Minor  \n",
      "0           0                  1      0  \n",
      "1           1                  1      0  \n",
      "2           1                  0      0  \n",
      "3           1                  1      0  \n",
      "4           0                  0      0  \n"
     ]
    },
    {
     "data": {
      "text/html": [
       "<div>\n",
       "<style scoped>\n",
       "    .dataframe tbody tr th:only-of-type {\n",
       "        vertical-align: middle;\n",
       "    }\n",
       "\n",
       "    .dataframe tbody tr th {\n",
       "        vertical-align: top;\n",
       "    }\n",
       "\n",
       "    .dataframe thead th {\n",
       "        text-align: right;\n",
       "    }\n",
       "</style>\n",
       "<table border=\"1\" class=\"dataframe\">\n",
       "  <thead>\n",
       "    <tr style=\"text-align: right;\">\n",
       "      <th></th>\n",
       "      <th>Age</th>\n",
       "      <th>Fare</th>\n",
       "      <th>Pclass_2</th>\n",
       "      <th>Pclass_3</th>\n",
       "      <th>Embarked_Q</th>\n",
       "      <th>Embarked_S</th>\n",
       "      <th>Sex_female</th>\n",
       "      <th>Travelling_Family</th>\n",
       "      <th>Minor</th>\n",
       "    </tr>\n",
       "  </thead>\n",
       "  <tbody>\n",
       "    <tr>\n",
       "      <th>0</th>\n",
       "      <td>34.5</td>\n",
       "      <td>7.8292</td>\n",
       "      <td>0</td>\n",
       "      <td>1</td>\n",
       "      <td>1</td>\n",
       "      <td>0</td>\n",
       "      <td>0</td>\n",
       "      <td>0</td>\n",
       "      <td>0</td>\n",
       "    </tr>\n",
       "    <tr>\n",
       "      <th>1</th>\n",
       "      <td>47.0</td>\n",
       "      <td>7.0000</td>\n",
       "      <td>0</td>\n",
       "      <td>1</td>\n",
       "      <td>0</td>\n",
       "      <td>1</td>\n",
       "      <td>1</td>\n",
       "      <td>1</td>\n",
       "      <td>0</td>\n",
       "    </tr>\n",
       "    <tr>\n",
       "      <th>2</th>\n",
       "      <td>62.0</td>\n",
       "      <td>9.6875</td>\n",
       "      <td>1</td>\n",
       "      <td>0</td>\n",
       "      <td>1</td>\n",
       "      <td>0</td>\n",
       "      <td>0</td>\n",
       "      <td>0</td>\n",
       "      <td>0</td>\n",
       "    </tr>\n",
       "    <tr>\n",
       "      <th>3</th>\n",
       "      <td>27.0</td>\n",
       "      <td>8.6625</td>\n",
       "      <td>0</td>\n",
       "      <td>1</td>\n",
       "      <td>0</td>\n",
       "      <td>1</td>\n",
       "      <td>0</td>\n",
       "      <td>0</td>\n",
       "      <td>0</td>\n",
       "    </tr>\n",
       "    <tr>\n",
       "      <th>4</th>\n",
       "      <td>22.0</td>\n",
       "      <td>12.2875</td>\n",
       "      <td>0</td>\n",
       "      <td>1</td>\n",
       "      <td>0</td>\n",
       "      <td>1</td>\n",
       "      <td>1</td>\n",
       "      <td>1</td>\n",
       "      <td>0</td>\n",
       "    </tr>\n",
       "  </tbody>\n",
       "</table>\n",
       "</div>"
      ],
      "text/plain": [
       "    Age     Fare  Pclass_2  Pclass_3  Embarked_Q  Embarked_S  Sex_female  \\\n",
       "0  34.5   7.8292         0         1           1           0           0   \n",
       "1  47.0   7.0000         0         1           0           1           1   \n",
       "2  62.0   9.6875         1         0           1           0           0   \n",
       "3  27.0   8.6625         0         1           0           1           0   \n",
       "4  22.0  12.2875         0         1           0           1           1   \n",
       "\n",
       "   Travelling_Family  Minor  \n",
       "0                  0      0  \n",
       "1                  1      0  \n",
       "2                  0      0  \n",
       "3                  0      0  \n",
       "4                  1      0  "
      ]
     },
     "execution_count": 381,
     "metadata": {},
     "output_type": "execute_result"
    }
   ],
   "source": [
    "test_df1=test_df.copy()\n",
    "test_df1['Age'] = test_df1[['Age','Pclass']].apply(impute_missing_age,axis=1)\n",
    "test_df1['Embarked'].fillna(test_df1['Embarked'].value_counts().idxmax())\n",
    "test_df1 = pd.get_dummies(test_df1,columns=['Pclass','Embarked','Sex'])\n",
    "test_df1['Travelling_Family'] = np.where((test_df1['Parch'] + test_df1['SibSp'])>0,1,0)\n",
    "test_df1['Minor'] = np.where((test_df1['Age']<=15),1,0)\n",
    "test_df1.drop(['Pclass_1', 'Embarked_C', 'Sex_male'],axis=1,inplace=True)\n",
    "test_df1.drop(['PassengerId', 'Name', 'Ticket', 'Cabin', 'SibSp', 'Parch'],axis=1,inplace=True)\n",
    "print(test_df1.isnull().sum())\n",
    "print(train_df.head())\n",
    "test_df1.head()"
   ]
  },
  {
   "cell_type": "markdown",
   "metadata": {},
   "source": [
    "#### 1.5 Model Building (Logistic Regression Model)\n",
    "Now that our data is ready, let's prepare train and test sets from the training data, and use this for Model building and Testing. As highlighted above, we will be using Logistic Regression which is well suited for such binary classification problems. The Algorithm is implented in the library sklearn which we will import below"
   ]
  },
  {
   "cell_type": "markdown",
   "metadata": {},
   "source": [
    "##### Train Test Split"
   ]
  },
  {
   "cell_type": "code",
   "execution_count": 382,
   "metadata": {},
   "outputs": [],
   "source": [
    "from sklearn.model_selection import train_test_split"
   ]
  },
  {
   "cell_type": "code",
   "execution_count": 383,
   "metadata": {},
   "outputs": [],
   "source": [
    "# This will split the given data set as 70-30 ratio for Train and test purposes.\n",
    "# please note X and Y have to be passed separately for the split. X contains all input fields, y represents the output here.\n",
    "X_train, X_test, Y_train, Y_test = train_test_split(\n",
    "    train_df.drop(['Survived'],axis=1),\n",
    "    train_df['Survived'], test_size=0.3, random_state=100\n",
    ")"
   ]
  },
  {
   "cell_type": "raw",
   "metadata": {},
   "source": [
    "# Now, let's build the Logistic Regression Model"
   ]
  },
  {
   "cell_type": "code",
   "execution_count": 384,
   "metadata": {},
   "outputs": [],
   "source": [
    "from sklearn.linear_model import LogisticRegression"
   ]
  },
  {
   "cell_type": "code",
   "execution_count": 390,
   "metadata": {},
   "outputs": [
    {
     "name": "stderr",
     "output_type": "stream",
     "text": [
      "/Users/babitha/.pyenv/versions/anaconda3-2021.05/lib/python3.8/site-packages/sklearn/linear_model/_logistic.py:763: ConvergenceWarning: lbfgs failed to converge (status=1):\n",
      "STOP: TOTAL NO. of ITERATIONS REACHED LIMIT.\n",
      "\n",
      "Increase the number of iterations (max_iter) or scale the data as shown in:\n",
      "    https://scikit-learn.org/stable/modules/preprocessing.html\n",
      "Please also refer to the documentation for alternative solver options:\n",
      "    https://scikit-learn.org/stable/modules/linear_model.html#logistic-regression\n",
      "  n_iter_i = _check_optimize_result(\n"
     ]
    },
    {
     "data": {
      "text/plain": [
       "LogisticRegression()"
      ]
     },
     "execution_count": 390,
     "metadata": {},
     "output_type": "execute_result"
    }
   ],
   "source": [
    "# Here, we prepared the Logistic Regression Object and Trained it using the X_train and Y_train\n",
    "# This is how we train our model to arrive at the best co-efficients that yields better accuracy\n",
    "#log = LogisticRegression(C=1,solver='lbfgs',penalty='l2')\n",
    "log = LogisticRegression()\n",
    "log.fit(X_train,Y_train)"
   ]
  },
  {
   "cell_type": "code",
   "execution_count": 391,
   "metadata": {},
   "outputs": [
    {
     "data": {
      "text/plain": [
       "array([1, 1, 0, 1, 0, 1, 0, 0, 1, 0, 1, 0, 0, 0, 1, 0, 1, 0, 1, 0, 0, 1,\n",
       "       0, 1, 0, 0, 1, 0, 0, 0, 0, 1, 0, 0, 1, 0, 1, 1, 1, 0, 0, 1, 0, 0,\n",
       "       0, 1, 0, 1, 0, 1, 0, 0, 0, 0, 0, 0, 0, 0, 0, 0, 0, 0, 0, 0, 0, 1,\n",
       "       0, 1, 1, 0, 0, 0, 0, 1, 0, 0, 0, 0, 0, 0, 0, 0, 1, 1, 1, 0, 0, 1,\n",
       "       0, 0, 0, 0, 0, 0, 1, 1, 1, 1, 0, 1, 0, 0, 0, 1, 0, 1, 0, 1, 1, 0,\n",
       "       0, 0, 1, 0, 1, 0, 0, 0, 0, 1, 0, 0, 1, 0, 0, 1, 0, 0, 1, 0, 0, 0,\n",
       "       0, 1, 0, 0, 0, 0, 1, 0, 1, 1, 0, 0, 0, 0, 1, 1, 0, 1, 1, 0, 0, 1,\n",
       "       0, 1, 0, 0, 0, 0, 1, 1, 0, 0, 1, 0, 1, 0, 0, 1, 0, 1, 0, 1, 1, 1,\n",
       "       0, 0, 1, 0, 0, 0, 1, 0, 0, 0, 0, 0, 0, 1, 1, 0, 1, 0, 0, 0, 1, 0,\n",
       "       1, 0, 1, 0, 0, 0, 0, 0, 0, 0, 0, 1, 0, 0, 0, 1, 0, 0, 1, 1, 0, 0,\n",
       "       0, 1, 1, 0, 1, 0, 0, 0, 0, 0, 1, 0, 0, 1, 0, 0, 1, 0, 0, 1, 0, 0,\n",
       "       0, 0, 0, 0, 1, 0, 0, 0, 0, 0, 0, 0, 0, 1, 0, 0, 0, 0, 1, 1, 0, 1,\n",
       "       1, 0, 1, 0])"
      ]
     },
     "execution_count": 391,
     "metadata": {},
     "output_type": "execute_result"
    }
   ],
   "source": [
    "# Here, we are testing our model with X_test data, for which we also know Y_test which we can use to evaluate our prediction\n",
    "predict = log.predict(X_test)\n",
    "predict"
   ]
  },
  {
   "cell_type": "code",
   "execution_count": 387,
   "metadata": {},
   "outputs": [],
   "source": [
    "from sklearn.metrics import confusion_matrix\n",
    "from sklearn.metrics import accuracy_score"
   ]
  },
  {
   "cell_type": "code",
   "execution_count": 392,
   "metadata": {},
   "outputs": [
    {
     "name": "stdout",
     "output_type": "stream",
     "text": [
      "[[143  16]\n",
      " [ 36  73]]\n"
     ]
    }
   ],
   "source": [
    "accuracy = confusion_matrix(Y_test,predict)\n",
    "print(accuracy)"
   ]
  },
  {
   "cell_type": "code",
   "execution_count": 393,
   "metadata": {},
   "outputs": [
    {
     "name": "stdout",
     "output_type": "stream",
     "text": [
      "0.8059701492537313\n"
     ]
    }
   ],
   "source": [
    "# This indicates an accuracy of 78% in the first attempt of our algorithm\n",
    "# That's a great prediction result to begin with. We will have lot of techniques \n",
    "# to tune this further to get the best accuracy, which we will see below.\n",
    "accuracyscore = accuracy_score(Y_test,predict)\n",
    "print(accuracyscore)\n",
    "#predict"
   ]
  },
  {
   "cell_type": "markdown",
   "metadata": {},
   "source": [
    "##### End - What modifications are done the data:\n",
    "1. Age imputed with Function\n",
    "2. Embarked Imputed with Max Frequency 'S'\n",
    "3. Sex, Pclass, Embarked converted as numerics through dummies\n",
    "4. Derived Feature - Travelling with Family?\n",
    "5. Derive Feature - is Minor?\n",
    "6. Drop PassengerId, Name, Ticket, Cabin, Sibsp, Parch columns\n",
    "7. Drop First Column for Dummy Variale Trap - Sex_female,Pclass_1,Embarked_C"
   ]
  }
 ],
 "metadata": {
  "kernelspec": {
   "display_name": "Python 3",
   "language": "python",
   "name": "python3"
  },
  "language_info": {
   "codemirror_mode": {
    "name": "ipython",
    "version": 3
   },
   "file_extension": ".py",
   "mimetype": "text/x-python",
   "name": "python",
   "nbconvert_exporter": "python",
   "pygments_lexer": "ipython3",
   "version": "3.8.8"
  }
 },
 "nbformat": 4,
 "nbformat_minor": 2
}
